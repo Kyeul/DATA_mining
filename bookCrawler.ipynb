{
 "cells": [
  {
   "cell_type": "code",
   "execution_count": 9,
   "metadata": {},
   "outputs": [],
   "source": [
    "import requests\n",
    "from bs4 import BeautifulSoup\n",
    "\n",
    "import pandas as pd\n",
    "import re"
   ]
  },
  {
   "cell_type": "code",
   "execution_count": 31,
   "metadata": {},
   "outputs": [
    {
     "name": "stdout",
     "output_type": "stream",
     "text": [
      "Done!\n"
     ]
    }
   ],
   "source": [
    "#크롤링을 통해 책의 고유 ID를 수집\n",
    "num = 1\n",
    "itemids = []\n",
    "while True:\n",
    "    url = 'https://www.aladin.co.kr/search/wsearchresult.aspx?SearchTarget=Book&KeyWord=%EC%9D%B8%EA%B3%B5%EC%A7%80%EB%8A%A5&KeyRecentPublish=0&OutStock=0&ViewType=Detail&SortOrder=11&CustReviewCount=0&CustReviewRank=0&KeyFullWord=%EC%9D%B8%EA%B3%B5%EC%A7%80%EB%8A%A5&KeyLastWord=%EC%9D%B8%EA%B3%B5%EC%A7%80%EB%8A%A5&PriceFilterMax=-1&CategorySearch=&chkKeyTitle=&chkKeyAuthor=&chkKeyPublisher=&chkKeyISBN=&chkKeyTag=&chkKeyTOC=&chkKeySubject=&ViewRowCount=50&page='\n",
    "    page = requests.get(url +str(num))\n",
    "    soup = BeautifulSoup(page.text, 'html.parser')\n",
    "    \n",
    "    bookInfo = soup.find_all('div', attrs={'class':'ss_book_box'}) # div테그 중 class명이 ss_book_box인 것들을 모두 가져온다\n",
    "    \n",
    "    if len(bookInfo) <= 0:\n",
    "        break\n",
    "    \n",
    "    for element in bookInfo:\n",
    "        if 'itemid' in element.attrs:\n",
    "            itemids.append(element.attrs['itemid'])\n",
    "    \n",
    "    num += 1\n",
    "print('Done!')"
   ]
  },
  {
   "cell_type": "code",
   "execution_count": null,
   "metadata": {},
   "outputs": [],
   "source": [
    "# DataFrame 생성\n",
    "columns = ['제목','부제', '저자', '출판일', '출판사', '소개', '목차', '출판사제공','가격'] #데이터 프레임의 컬럼명 \n",
    "dataFrame = pd.DataFrame(columns=colmns) #dataFrame을 만들고 지정한 column명으로 설정"
   ]
  },
  {
   "cell_type": "code",
   "execution_count": null,
   "metadata": {},
   "outputs": [],
   "source": [
    "# 책의 상세 페이지에 접근하여 데이터 크롤링\n",
    "\n",
    "\n",
    "for i in itemids:\n",
    "    url = 'https://www.aladin.co.kr/shop/wproduct.aspx?ItemId='\n",
    "    page = requests.get(url+str(i))\n",
    "    soup = BeautifulSoup(page.text, 'html.parser')\n",
    "    \n",
    "    "
   ]
  },
  {
   "cell_type": "code",
   "execution_count": 36,
   "metadata": {},
   "outputs": [],
   "source": [
    "url = 'https://www.aladin.co.kr/shop/wproduct.aspx?ItemId='\n",
    "page = requests.get(url+str(237677114))\n",
    "soup = BeautifulSoup(page.text, 'html.parser')\n",
    "\n",
    "#데이터 수집\n",
    "title = soup.find('a', attrs={'class':'Ere_bo_title'}).text #제목\n",
    "subTitle = soup.find('a', attrs={'class': 'Ere_sub1_title'}).text #부제\n",
    "\n",
    "author = soup.find('a', attrs={'class':'Ere_sub2_tile'}).text #작가(1작가만 가져옴)\n",
    "\n",
    "#출판사 \n",
    "sub = soup.find_all('a', attrs={'class':'Ere_sub2_title'})\n",
    "for info in sub:\n",
    "    if re.compile('Publisher').search(info.attrs['href']):\n",
    "        publisher = info.text \n",
    "        \n",
    "#출판일        \n",
    "date = soup.find('li', attrs={'class':'Ere_sub2_title'}).text\n",
    "compliedDate = re.compile('\\d{4}\\-\\d\\d\\-\\d\\d')\n",
    "date = compliedDate.search(date).group()\n",
    "\n",
    "#가격\n",
    "price = soup.find('div', attrs={'class':'Ritem'}).text\n",
    "compiledPrice = re.compile('\\d*,?\\d*')\n",
    "price = compiledPrice.search(price).group()\n",
    "\n",
    "#목차\n",
    "introduction = soup.find('div', attrs={'class':'Ere_prod_mconts_R'}).text"
   ]
  },
  {
   "cell_type": "code",
   "execution_count": 94,
   "metadata": {},
   "outputs": [],
   "source": [
    "introduction = soup.('', attrs={'class':'Ere_prod_mconts_box'})"
   ]
  },
  {
   "cell_type": "code",
   "execution_count": 97,
   "metadata": {},
   "outputs": [],
   "source": [
    "contents = soup.find('a', attrs={'href':\"javascript:fn_hide_introduce_TOC('TOC')\"})"
   ]
  },
  {
   "cell_type": "code",
   "execution_count": 98,
   "metadata": {},
   "outputs": [],
   "source": [
    "contents"
   ]
  },
  {
   "cell_type": "code",
   "execution_count": 95,
   "metadata": {
    "collapsed": true,
    "jupyter": {
     "outputs_hidden": true
    }
   },
   "outputs": [
    {
     "name": "stdout",
     "output_type": "stream",
     "text": [
      "\n",
      "기본정보 \n",
      "기본정보 \n",
      "\n",
      "\n",
      "952쪽183*235mm1809gISBN : 9791162242964\n",
      "\n",
      "\n",
      "\n",
      "주제 분류\n",
      "신간알림 신청\n",
      "\n",
      "\n",
      "\n",
      "국내도서 > 컴퓨터/모바일 > 컴퓨터 공학 > 데이터베이스 개론 접기국내도서 > 컴퓨터/모바일 > 컴퓨터 공학 > 자료구조/알고리즘 접기국내도서 > 컴퓨터/모바일 > 컴퓨터 공학 > 전산수학(SPSS/MATLAB) 접기국내도서 > 컴퓨터/모바일 > 프로그래밍 언어 > 파이썬 접기\n",
      "\n",
      "\n",
      "\n",
      "\n",
      "\n",
      "\n",
      "출판사 제공 북트레일러출판사 제공 북트레일러\n",
      "\n",
      "이벤트 \n",
      "이벤트 \n",
      "\n",
      "\n",
      "\n",
      "\n",
      "   한빛미디어 프로그래밍 단행본 구매 시, <핸즈온 머신러닝> 마우스패드     수험서.외국어.컴퓨터.대학교재 - 라떼 유리컵/스톱워치/본투리드 볼펜/분철 라벨스틱     IT 신간 추천도서 3만원 이상 구매 시, 우드캡 보틀  \n"
     ]
    }
   ],
   "source": [
    "for i in introduction:\n",
    "    print(i.text)"
   ]
  },
  {
   "cell_type": "code",
   "execution_count": 47,
   "metadata": {},
   "outputs": [],
   "source": [
    "title = soup.find_all('a', attrs={'href':re.compile('https://www.aladin.co.kr/search/wsearchresult.aspx?PublisherSearch=')})"
   ]
  },
  {
   "cell_type": "code",
   "execution_count": 49,
   "metadata": {},
   "outputs": [],
   "source": [
    "title = soup.find_all('a', attrs={'class':'Ere_sub2_title'})"
   ]
  },
  {
   "cell_type": "code",
   "execution_count": 56,
   "metadata": {},
   "outputs": [
    {
     "data": {
      "text/plain": [
       "'/search/wsearchresult.aspx?AuthorSearch=%ec%98%a4%eb%a0%90%eb%a6%ac%ec%95%99+%ec%a0%9c%eb%a1%b1@6250046&BranchType=1'"
      ]
     },
     "execution_count": 56,
     "metadata": {},
     "output_type": "execute_result"
    }
   ],
   "source": [
    "title[0].attrs['href']"
   ]
  },
  {
   "cell_type": "code",
   "execution_count": 58,
   "metadata": {},
   "outputs": [],
   "source": [
    "sub = soup.find_all('a', attrs={'class':'Ere_sub2_title'})\n",
    "for info in sub:\n",
    "    if re.compile('Publisher').search(info.attrs['href']):\n",
    "        publisher = info.text"
   ]
  },
  {
   "cell_type": "code",
   "execution_count": 86,
   "metadata": {},
   "outputs": [],
   "source": [
    "price = soup.find('div', attrs={'class':'Ritem'}).text\n",
    "compiledPrice = re.compile('\\d*,?\\d*')"
   ]
  },
  {
   "cell_type": "code",
   "execution_count": 88,
   "metadata": {},
   "outputs": [
    {
     "data": {
      "text/plain": [
       "'55,000'"
      ]
     },
     "execution_count": 88,
     "metadata": {},
     "output_type": "execute_result"
    }
   ],
   "source": [
    "price = compiledPrice.search(price).group()"
   ]
  },
  {
   "cell_type": "code",
   "execution_count": 62,
   "metadata": {},
   "outputs": [],
   "source": [
    "num='rasdfwefasdfw2020-05-04asdfwfsasdf'\n"
   ]
  },
  {
   "cell_type": "code",
   "execution_count": 70,
   "metadata": {},
   "outputs": [],
   "source": [
    "a=re.compile('\\d{4}\\-\\d\\d\\-\\d\\d')"
   ]
  },
  {
   "cell_type": "code",
   "execution_count": 74,
   "metadata": {},
   "outputs": [
    {
     "data": {
      "text/plain": [
       "'2020-05-04'"
      ]
     },
     "execution_count": 74,
     "metadata": {},
     "output_type": "execute_result"
    }
   ],
   "source": [
    "a.search(date).group()"
   ]
  },
  {
   "cell_type": "markdown",
   "metadata": {},
   "source": [
    "58054191\n",
    "81518846"
   ]
  }
 ],
 "metadata": {
  "kernelspec": {
   "display_name": "Python 3",
   "language": "python",
   "name": "python3"
  },
  "language_info": {
   "codemirror_mode": {
    "name": "ipython",
    "version": 3
   },
   "file_extension": ".py",
   "mimetype": "text/x-python",
   "name": "python",
   "nbconvert_exporter": "python",
   "pygments_lexer": "ipython3",
   "version": "3.7.3"
  }
 },
 "nbformat": 4,
 "nbformat_minor": 4
}
