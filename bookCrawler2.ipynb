{
 "cells": [
  {
   "cell_type": "code",
   "execution_count": 1,
   "metadata": {},
   "outputs": [],
   "source": [
    "import requests\n",
    "from bs4 import BeautifulSoup\n",
    "\n",
    "import pandas as pd\n",
    "import re"
   ]
  },
  {
   "cell_type": "code",
   "execution_count": 90,
   "metadata": {},
   "outputs": [
    {
     "name": "stdout",
     "output_type": "stream",
     "text": [
      "Done!\n"
     ]
    }
   ],
   "source": [
    "#크롤링을 통해 책의 고유 ID를 수집\n",
    "num = 1\n",
    "itemids = []\n",
    "i = 1\n",
    "compiler1 = re.compile('/Product/Goods/\\d{5,8}')\n",
    "compiler2 = re.compile('\\d{5,8}')\n",
    "while True:\n",
    "    url = 'http://www.yes24.com/searchcorner/Search?keywordAd=&keyword=&query=%c0%ce%b0%f8%c1%f6%b4%c9&domain=BOOK&page_size=120&PageNumber={}&scode=012'\n",
    "    page = requests.get(url .format(num))\n",
    "    soup = BeautifulSoup(page.text, 'html.parser')\n",
    "    \n",
    "    bookInfo = soup.select('p.goods_name a')\n",
    "    if len(bookInfo) <= 0:\n",
    "        print('Done!')\n",
    "        break\n",
    "    \n",
    "    for info in bookInfo:\n",
    "        try:\n",
    "            itemid=compiler1.search(str(info)).group()\n",
    "            itemids.append(compiler2.search(itemid).group())\n",
    "        except AttributeError:\n",
    "            pass\n",
    "\n",
    "    num += 1\n",
    "print('총 개수: ', len(itemids))"
   ]
  },
  {
   "cell_type": "code",
   "execution_count": null,
   "metadata": {},
   "outputs": [],
   "source": [
    "# DataFrame 생성\n",
    "columns = ['제목','부제', '저자', '분야', '출판일', '출판사', '소개', '목차', '출판사제공','가격'] #데이터 프레임의 컬럼명 \n",
    "dataFrame = pd.DataFrame(columns=colmns) #dataFrame을 만들고 지정한 column명으로 설정"
   ]
  },
  {
   "cell_type": "code",
   "execution_count": null,
   "metadata": {},
   "outputs": [],
   "source": [
    "# 책의 상세 페이지에 접근하여 데이터 크롤링\n",
    "\n",
    "for i in itemids:\n",
    "    url = 'http://www.yes24.com/Product/Goods/{}?scode=032&OzSrank=1'\n",
    "    page = requests.get(url .format(i))\n",
    "    soup = BeautifulSoup(page.text, 'html.parser')\n",
    "    \n",
    "    title = soup.find('h2', attrs={'class':'gd_name'}).text #제목을 가져온다.\n",
    "    sub_title = soup.find('h3', attrs={'class':'gd_nameE'}).text  #부제목을 가져온다.\n",
    "    author = soup.select('span.gd_auth a')[0].text #저자 정보\n",
    "    feild = soup.select('div.gd_infoSet a')[1].text  #분야를 가져온다.\n",
    "\n",
    "    #출간일\n",
    "    date = soup.find('span', attrs={'class':'gd_date'}).text\n",
    "    date = re.sub('년|월|일|\\ ', '', date) #한글 단위를 모두 제거\n",
    "\n",
    "    publisher = soup.select('span.gd_pub')[0].text #출판사\n",
    "\n",
    "    #가격\n",
    "    price = soup.find('em', attrs={'class':'yes_m'}).text\n",
    "    price = re.sub(',|원', '', price)\n",
    "\n",
    "    contents = soup.select('textarea.txtContentText')[1] #목차\n",
    "    introduction = soup.select('textarea.txtContentText')[0] #책소개\n",
    "    #출판사 소개\n",
    "    introduction_2 = soup.select('div#infoset_pubReivew')[0].text \n",
    "    introduction_2 = re.sub('출판사 리뷰|\\\\n|펼쳐보기접어보기', ' ', introduction_2) #불용어 제거\n",
    "    \n",
    "    \n"
   ]
  },
  {
   "cell_type": "code",
   "execution_count": 163,
   "metadata": {},
   "outputs": [
    {
     "ename": "TypeError",
     "evalue": "'NoneType' object is not callable",
     "output_type": "error",
     "traceback": [
      "\u001b[1;31m---------------------------------------------------------------------------\u001b[0m",
      "\u001b[1;31mTypeError\u001b[0m                                 Traceback (most recent call last)",
      "\u001b[1;32m<ipython-input-163-9ab358bbaa32>\u001b[0m in \u001b[0;36m<module>\u001b[1;34m\u001b[0m\n\u001b[0;32m     22\u001b[0m \u001b[1;31m#출판사 소개\u001b[0m\u001b[1;33m\u001b[0m\u001b[1;33m\u001b[0m\u001b[1;33m\u001b[0m\u001b[0m\n\u001b[0;32m     23\u001b[0m \u001b[0mintroduction_2\u001b[0m \u001b[1;33m=\u001b[0m \u001b[0msoup\u001b[0m\u001b[1;33m.\u001b[0m\u001b[0mselect\u001b[0m\u001b[1;33m(\u001b[0m\u001b[1;34m'div#infoset_pubReivew'\u001b[0m\u001b[1;33m)\u001b[0m\u001b[1;33m[\u001b[0m\u001b[1;36m0\u001b[0m\u001b[1;33m]\u001b[0m\u001b[1;33m.\u001b[0m\u001b[0mtext\u001b[0m\u001b[1;33m\u001b[0m\u001b[1;33m\u001b[0m\u001b[0m\n\u001b[1;32m---> 24\u001b[1;33m \u001b[0mintroduction_2\u001b[0m \u001b[1;33m=\u001b[0m \u001b[0msoup\u001b[0m\u001b[1;33m.\u001b[0m\u001b[0msub\u001b[0m\u001b[1;33m(\u001b[0m\u001b[1;34m'출판사\\ 리뷰|\\\\n|펼쳐보기접어보기'\u001b[0m\u001b[1;33m,\u001b[0m \u001b[1;34m' '\u001b[0m\u001b[1;33m,\u001b[0m \u001b[1;33m)\u001b[0m\u001b[1;33m\u001b[0m\u001b[1;33m\u001b[0m\u001b[0m\n\u001b[0m",
      "\u001b[1;31mTypeError\u001b[0m: 'NoneType' object is not callable"
     ]
    }
   ],
   "source": [
    "url = 'http://www.yes24.com/Product/Goods/89959711?scode=032&OzSrank=1'\n",
    "page = requests.get(url)\n",
    "soup = BeautifulSoup(page.text, 'html.parser')\n",
    "\n",
    "title = soup.find('h2', attrs={'class':'gd_name'}).text #제목을 가져온다.\n",
    "sub_title = soup.find('h3', attrs={'class':'gd_nameE'}).text  #부제목을 가져온다.\n",
    "author = soup.select('span.gd_auth a')[0].text #저자 정보\n",
    "feild = soup.select('div.gd_infoSet a')[1].text  #분야를 가져온다.\n",
    "\n",
    "#출간일\n",
    "date = soup.find('span', attrs={'class':'gd_date'}).text\n",
    "date = re.sub('년|월|일|\\ ', '', date) #한글 단위를 모두 제거\n",
    "\n",
    "publisher = soup.select('span.gd_pub')[0].text #출판사\n",
    "\n",
    "#가격\n",
    "price = soup.find('em', attrs={'class':'yes_m'}).text\n",
    "price = re.sub(',|원', '', price)\n",
    "\n",
    "contents = soup.select('textarea.txtContentText')[1] #목차\n",
    "introduction = soup.select('textarea.txtContentText')[0] #책소개\n",
    "#출판사 소개\n",
    "introduction_2 = soup.select('div#infoset_pubReivew')[0].text \n",
    "introduction_2 = re.sub('출판사 리뷰|\\\\n|펼쳐보기접어보기', ' ', introduction_2) #불용어 제거\n",
    "\n",
    "#"
   ]
  },
  {
   "cell_type": "code",
   "execution_count": 158,
   "metadata": {
    "collapsed": true,
    "jupyter": {
     "outputs_hidden": true
    }
   },
   "outputs": [
    {
     "data": {
      "text/plain": [
       "'\\n\\n출판사 리뷰\\n\\n\\n\\n컬러판으로 돌아온 아마존 인공지능 분야 부동의 1위 도서머신러닝 전문가로 이끄는 최고의 실전 지침서 텐서플로 2.0을 반영한 풀컬러 개정판 이 책의 원서는 출간 직후부터 미국 아마존 인공지능 분야에서 줄곧 1위 자리를 지키고 있습니다. 가장 많은 명저가 경쟁하는 시장에서 이처럼 확고부동한 호응을 얻은 데는 그만한 이유가 있습니다. 이론과 활용을 적절히 섞으면서도 실무에서 확실히 통하도록 구성했고, 나아가 실무자들의 실력을 한층 끌어올려줄 깊이를 담았기 때문이죠.완전히 새로워진 2판에서는 내지를 흑백에서 전면 컬러로 변경했습니다. 사이킷런, 케라스, 텐서플로 2.x을 사용하며 비지도 학습, 자연어 처리, 생성적 적대 신경망을 포함한 딥러닝 최신 기법을 소개합니다. 분산 트레이닝이나 배포, 구글 클라우드와의 연동과 관련된 내용도 맛볼 수 있습니다.이 책 한 권으로 머신러닝과 딥러닝을 통달할 수는 없지만, 인공지능 마스터로 가는 거리를 단축해줄 치트키가 되어줄 것입니다.★ 2판에서 달라진 점1. 더 많은 비지도 학습 기법(군집, 이상치 탐지, 밀도 추정, 혼합 모델 등), 심층 신경망을 훈련하기 위한 다양한 방법(자기 정규화 네트워크 등), 추가적인 컴퓨터 비전 기법(Xception, SENet, YOLO를 사용한 객체 탐지, R-CNN을 사용한 시맨틱 분할 등), 합성곱 신경망(CNN)을 사용하여 시퀀스 다루기(WaveNet 등), CNN과 트랜스포머, 순환 신경망을 사용한 언어 처리, 생성적 적대 신경망(GAN)입니다.2. 추가적인 라이브러리와 API(케라스, Data API, 강화 학습을 위한 TF-Agents), 분산 전략 API를 사용해 대규모 TF 모델을 훈련하고 배포하기, TF 서빙, TF Addons/Seq2Seq, TensorFlow.js를 다룹니다.3. 최근 중요한 딥러닝 연구 결과를 설명합니다.4. 모든 텐서플로 관련 장에서 텐서플로 2를 사용하고 가능하면 텐서플로의 케라스 API 구현(tf.keras)을 사용합니다.5. 사이킷런, 넘파이, 판다스, 맷플롯립, 그 외 다른 라이브러리 최신 버전에 맞게 코드 예제를 업데이트 했습니다.★ 목적과 접근 방식이 책은 여러분이 머신러닝을 거의 모른다고 가정하고, 데이터로부터 스스로 학습하는 프로그램을 실제로 구현하는 데 필요한 개념, 직관, 도구를 알려주는 것을 목표로 합니다.선형 회귀처럼 가장 단순하고 널리 쓰이는 기법부터 시장을 선도하는 딥러닝 기법까지 다채로운 지식과 경험을 담았고, 당장 제품화에 사용할 수 있는 다음의 세 가지 파이썬 프레임워크를 활용했습니다.- 사이킷런(Scikit-Learn): 다양한 머신러닝 알고리즘을 효율적으로 구현했으며 사용하기도 쉬워 머신러닝을 처음 배우기에 가장 좋은 도구입니다.- 텐서플로(TensorFlow): 수치계산을 데이터 플로 그래프를 이용하여 분산 처리해주는, 더 복잡한 라이브러리입니다. 연산을 수천 대의 GPU 서버에 분배하여 대규모 신경망을 효율적으로 학습시키고 운영할 수 있습니다.- 케라스(Keras): 고수준 딥러닝 API입니다. 매우 쉽게 신경망을 훈련하고 실행할 수 있습니다. 케라스는 텐서플로, 시애노(Theano), 마이크로소프트 코그니티브 툴킷(Microsoft Cognitive Toolkit) 위에서 작동합니다. 텐서플로는 자체적인 케라스 API 구현을 tf.keras란 이름으로 포함하며, tf.keras는 텐서플로의 고급 기능을 지원합니다. \\n펼쳐보기접어보기\\n\\n'"
      ]
     },
     "execution_count": 158,
     "metadata": {},
     "output_type": "execute_result"
    }
   ],
   "source": [
    "soup.select('div#infoset_pubReivew')[0].text"
   ]
  },
  {
   "cell_type": "code",
   "execution_count": 161,
   "metadata": {},
   "outputs": [],
   "source": [
    "introduction_2 = soup.select('div#infoset_pubReivew')[0].text "
   ]
  },
  {
   "cell_type": "code",
   "execution_count": 168,
   "metadata": {},
   "outputs": [
    {
     "data": {
      "text/plain": [
       "'\\n\\n출판사 리뷰\\n\\n\\n\\n컬러판으로 돌아온 아마존 인공지능 분야 부동의 1위 도서머신러닝 전문가로 이끄는 최고의 실전 지침서 텐서플로 2.0을 반영한 풀컬러 개정판 이 책의 원서는 출간 직후부터 미국 아마존 인공지능 분야에서 줄곧 1위 자리를 지키고 있습니다. 가장 많은 명저가 경쟁하는 시장에서 이처럼 확고부동한 호응을 얻은 데는 그만한 이유가 있습니다. 이론과 활용을 적절히 섞으면서도 실무에서 확실히 통하도록 구성했고, 나아가 실무자들의 실력을 한층 끌어올려줄 깊이를 담았기 때문이죠.완전히 새로워진 2판에서는 내지를 흑백에서 전면 컬러로 변경했습니다. 사이킷런, 케라스, 텐서플로 2.x을 사용하며 비지도 학습, 자연어 처리, 생성적 적대 신경망을 포함한 딥러닝 최신 기법을 소개합니다. 분산 트레이닝이나 배포, 구글 클라우드와의 연동과 관련된 내용도 맛볼 수 있습니다.이 책 한 권으로 머신러닝과 딥러닝을 통달할 수는 없지만, 인공지능 마스터로 가는 거리를 단축해줄 치트키가 되어줄 것입니다.★ 2판에서 달라진 점1. 더 많은 비지도 학습 기법(군집, 이상치 탐지, 밀도 추정, 혼합 모델 등), 심층 신경망을 훈련하기 위한 다양한 방법(자기 정규화 네트워크 등), 추가적인 컴퓨터 비전 기법(Xception, SENet, YOLO를 사용한 객체 탐지, R-CNN을 사용한 시맨틱 분할 등), 합성곱 신경망(CNN)을 사용하여 시퀀스 다루기(WaveNet 등), CNN과 트랜스포머, 순환 신경망을 사용한 언어 처리, 생성적 적대 신경망(GAN)입니다.2. 추가적인 라이브러리와 API(케라스, Data API, 강화 학습을 위한 TF-Agents), 분산 전략 API를 사용해 대규모 TF 모델을 훈련하고 배포하기, TF 서빙, TF Addons/Seq2Seq, TensorFlow.js를 다룹니다.3. 최근 중요한 딥러닝 연구 결과를 설명합니다.4. 모든 텐서플로 관련 장에서 텐서플로 2를 사용하고 가능하면 텐서플로의 케라스 API 구현(tf.keras)을 사용합니다.5. 사이킷런, 넘파이, 판다스, 맷플롯립, 그 외 다른 라이브러리 최신 버전에 맞게 코드 예제를 업데이트 했습니다.★ 목적과 접근 방식이 책은 여러분이 머신러닝을 거의 모른다고 가정하고, 데이터로부터 스스로 학습하는 프로그램을 실제로 구현하는 데 필요한 개념, 직관, 도구를 알려주는 것을 목표로 합니다.선형 회귀처럼 가장 단순하고 널리 쓰이는 기법부터 시장을 선도하는 딥러닝 기법까지 다채로운 지식과 경험을 담았고, 당장 제품화에 사용할 수 있는 다음의 세 가지 파이썬 프레임워크를 활용했습니다.- 사이킷런(Scikit-Learn): 다양한 머신러닝 알고리즘을 효율적으로 구현했으며 사용하기도 쉬워 머신러닝을 처음 배우기에 가장 좋은 도구입니다.- 텐서플로(TensorFlow): 수치계산을 데이터 플로 그래프를 이용하여 분산 처리해주는, 더 복잡한 라이브러리입니다. 연산을 수천 대의 GPU 서버에 분배하여 대규모 신경망을 효율적으로 학습시키고 운영할 수 있습니다.- 케라스(Keras): 고수준 딥러닝 API입니다. 매우 쉽게 신경망을 훈련하고 실행할 수 있습니다. 케라스는 텐서플로, 시애노(Theano), 마이크로소프트 코그니티브 툴킷(Microsoft Cognitive Toolkit) 위에서 작동합니다. 텐서플로는 자체적인 케라스 API 구현을 tf.keras란 이름으로 포함하며, tf.keras는 텐서플로의 고급 기능을 지원합니다. \\n펼쳐보기접어보기\\n\\n'"
      ]
     },
     "execution_count": 168,
     "metadata": {},
     "output_type": "execute_result"
    }
   ],
   "source": [
    "introduction_2"
   ]
  },
  {
   "cell_type": "code",
   "execution_count": 170,
   "metadata": {},
   "outputs": [],
   "source": [
    "introduction_2 = re.sub('출판사 리뷰|\\\\n|펼쳐보기접어보기', ' ', introduction_2)"
   ]
  },
  {
   "cell_type": "code",
   "execution_count": 171,
   "metadata": {},
   "outputs": [
    {
     "data": {
      "text/plain": [
       "'       컬러판으로 돌아온 아마존 인공지능 분야 부동의 1위 도서머신러닝 전문가로 이끄는 최고의 실전 지침서 텐서플로 2.0을 반영한 풀컬러 개정판 이 책의 원서는 출간 직후부터 미국 아마존 인공지능 분야에서 줄곧 1위 자리를 지키고 있습니다. 가장 많은 명저가 경쟁하는 시장에서 이처럼 확고부동한 호응을 얻은 데는 그만한 이유가 있습니다. 이론과 활용을 적절히 섞으면서도 실무에서 확실히 통하도록 구성했고, 나아가 실무자들의 실력을 한층 끌어올려줄 깊이를 담았기 때문이죠.완전히 새로워진 2판에서는 내지를 흑백에서 전면 컬러로 변경했습니다. 사이킷런, 케라스, 텐서플로 2.x을 사용하며 비지도 학습, 자연어 처리, 생성적 적대 신경망을 포함한 딥러닝 최신 기법을 소개합니다. 분산 트레이닝이나 배포, 구글 클라우드와의 연동과 관련된 내용도 맛볼 수 있습니다.이 책 한 권으로 머신러닝과 딥러닝을 통달할 수는 없지만, 인공지능 마스터로 가는 거리를 단축해줄 치트키가 되어줄 것입니다.★ 2판에서 달라진 점1. 더 많은 비지도 학습 기법(군집, 이상치 탐지, 밀도 추정, 혼합 모델 등), 심층 신경망을 훈련하기 위한 다양한 방법(자기 정규화 네트워크 등), 추가적인 컴퓨터 비전 기법(Xception, SENet, YOLO를 사용한 객체 탐지, R-CNN을 사용한 시맨틱 분할 등), 합성곱 신경망(CNN)을 사용하여 시퀀스 다루기(WaveNet 등), CNN과 트랜스포머, 순환 신경망을 사용한 언어 처리, 생성적 적대 신경망(GAN)입니다.2. 추가적인 라이브러리와 API(케라스, Data API, 강화 학습을 위한 TF-Agents), 분산 전략 API를 사용해 대규모 TF 모델을 훈련하고 배포하기, TF 서빙, TF Addons/Seq2Seq, TensorFlow.js를 다룹니다.3. 최근 중요한 딥러닝 연구 결과를 설명합니다.4. 모든 텐서플로 관련 장에서 텐서플로 2를 사용하고 가능하면 텐서플로의 케라스 API 구현(tf.keras)을 사용합니다.5. 사이킷런, 넘파이, 판다스, 맷플롯립, 그 외 다른 라이브러리 최신 버전에 맞게 코드 예제를 업데이트 했습니다.★ 목적과 접근 방식이 책은 여러분이 머신러닝을 거의 모른다고 가정하고, 데이터로부터 스스로 학습하는 프로그램을 실제로 구현하는 데 필요한 개념, 직관, 도구를 알려주는 것을 목표로 합니다.선형 회귀처럼 가장 단순하고 널리 쓰이는 기법부터 시장을 선도하는 딥러닝 기법까지 다채로운 지식과 경험을 담았고, 당장 제품화에 사용할 수 있는 다음의 세 가지 파이썬 프레임워크를 활용했습니다.- 사이킷런(Scikit-Learn): 다양한 머신러닝 알고리즘을 효율적으로 구현했으며 사용하기도 쉬워 머신러닝을 처음 배우기에 가장 좋은 도구입니다.- 텐서플로(TensorFlow): 수치계산을 데이터 플로 그래프를 이용하여 분산 처리해주는, 더 복잡한 라이브러리입니다. 연산을 수천 대의 GPU 서버에 분배하여 대규모 신경망을 효율적으로 학습시키고 운영할 수 있습니다.- 케라스(Keras): 고수준 딥러닝 API입니다. 매우 쉽게 신경망을 훈련하고 실행할 수 있습니다. 케라스는 텐서플로, 시애노(Theano), 마이크로소프트 코그니티브 툴킷(Microsoft Cognitive Toolkit) 위에서 작동합니다. 텐서플로는 자체적인 케라스 API 구현을 tf.keras란 이름으로 포함하며, tf.keras는 텐서플로의 고급 기능을 지원합니다.     '"
      ]
     },
     "execution_count": 171,
     "metadata": {},
     "output_type": "execute_result"
    }
   ],
   "source": [
    "introduction_2"
   ]
  },
  {
   "cell_type": "code",
   "execution_count": 152,
   "metadata": {
    "collapsed": true,
    "jupyter": {
     "outputs_hidden": true
    }
   },
   "outputs": [
    {
     "data": {
      "text/plain": [
       "<div class=\"infoWrap_txt\">\n",
       "<b>컬러판으로 돌아온 아마존 인공지능 분야 부동의 1위 도서<br/><br/>머신러닝 전문가로 이끄는 최고의 실전 지침서 <br/>텐서플로 2.0을 반영한 풀컬러 개정판 </b><br/><br/>이 책의 원서는 출간 직후부터 미국 아마존 인공지능 분야에서 줄곧 1위 자리를 지키고 있습니다. 가장 많은 명저가 경쟁하는 시장에서 이처럼 확고부동한 호응을 얻은 데는 그만한 이유가 있습니다. 이론과 활용을 적절히 섞으면서도 실무에서 확실히 통하도록 구성했고, 나아가 실무자들의 실력을 한층 끌어올려줄 깊이를 담았기 때문이죠.<br/><br/>완전히 새로워진 2판에서는 내지를 흑백에서 전면 컬러로 변경했습니다. 사이킷런, 케라스, 텐서플로 2.x을 사용하며 비지도 학습, 자연어 처리, 생성적 적대 신경망을 포함한 딥러닝 최신 기법을 소개합니다. 분산 트레이닝이나 배포, 구글 클라우드와의 연동과 관련된 내용도 맛볼 수 있습니다.<br/><br/>이 책 한 권으로 머신러닝과 딥러닝을 통달할 수는 없지만, 인공지능 마스터로 가는 거리를 단축해줄 치트키가 되어줄 것입니다.<br/><br/><b>★ 2판에서 달라진 점</b><br/><br/>1. 더 많은 비지도 학습 기법(군집, 이상치 탐지, 밀도 추정, 혼합 모델 등), 심층 신경망을 훈련하기 위한 다양한 방법(자기 정규화 네트워크 등), 추가적인 컴퓨터 비전 기법(Xception, SENet, YOLO를 사용한 객체 탐지, R-CNN을 사용한 시맨틱 분할 등), 합성곱 신경망(CNN)을 사용하여 시퀀스 다루기(WaveNet 등), CNN과 트랜스포머, 순환 신경망을 사용한 언어 처리, 생성적 적대 신경망(GAN)입니다.<br/><br/>2. 추가적인 라이브러리와 API(케라스, Data API, 강화 학습을 위한 TF-Agents), 분산 전략 API를 사용해 대규모 TF 모델을 훈련하고 배포하기, TF 서빙, TF Addons/Seq2Seq, TensorFlow.js를 다룹니다.<br/><br/>3. 최근 중요한 딥러닝 연구 결과를 설명합니다.<br/><br/>4. 모든 텐서플로 관련 장에서 텐서플로 2를 사용하고 가능하면 텐서플로의 케라스 API 구현(tf.keras)을 사용합니다.<br/><br/>5. 사이킷런, 넘파이, 판다스, 맷플롯립, 그 외 다른 라이브러리 최신 버전에 맞게 코드 예제를 업데이트 했습니다.<br/><br/><b>★ 목적과 접근 방식</b><br/>이 책은 여러분이 머신러닝을 거의 모른다고 가정하고, 데이터로부터 스스로 학습하는 프로그램을 실제로 구현하는 데 필요한 개념, 직관, 도구를 알려주는 것을 목표로 합니다.<br/><br/>선형 회귀처럼 가장 단순하고 널리 쓰이는 기법부터 시장을 선도하는 딥러닝 기법까지 다채로운 지식과 경험을 담았고, 당장 제품화에 사용할 수 있는 다음의 세 가지 파이썬 프레임워크를 활용했습니다.<br/><br/>- 사이킷런(Scikit-Learn): 다양한 머신러닝 알고리즘을 효율적으로 구현했으며 사용하기도 쉬워 머신러닝을 처음 배우기에 가장 좋은 도구입니다.<br/>- 텐서플로(TensorFlow): 수치계산을 데이터 플로 그래프를 이용하여 분산 처리해주는, 더 복잡한 라이브러리입니다. 연산을 수천 대의 GPU 서버에 분배하여 대규모 신경망을 효율적으로 학습시키고 운영할 수 있습니다.<br/>- 케라스(Keras): 고수준 딥러닝 API입니다. 매우 쉽게 신경망을 훈련하고 실행할 수 있습니다. 케라스는 텐서플로, 시애노(Theano), 마이크로소프트 코그니티브 툴킷(Microsoft Cognitive Toolkit) 위에서 작동합니다. 텐서플로는 자체적인 케라스 API 구현을 tf.keras란 이름으로 포함하며, tf.keras는 텐서플로의 고급 기능을 지원합니다.<br/> </div>"
      ]
     },
     "execution_count": 152,
     "metadata": {},
     "output_type": "execute_result"
    }
   ],
   "source": [
    "soup.find_all('div', attrs={'class':'infoWrap_txt'})[5]"
   ]
  },
  {
   "cell_type": "code",
   "execution_count": 133,
   "metadata": {},
   "outputs": [
    {
     "data": {
      "text/plain": [
       "'55000'"
      ]
     },
     "execution_count": 133,
     "metadata": {},
     "output_type": "execute_result"
    }
   ],
   "source": [
    "re.sub(',|원', '', price)"
   ]
  },
  {
   "cell_type": "code",
   "execution_count": 139,
   "metadata": {},
   "outputs": [
    {
     "data": {
      "text/plain": [
       "'\\r\\n머신러닝 전문가로 이끄는 최고의 실전 지침서 텐서플로 2.0을 반영한 풀컬러 개정판 『핸즈온 머신러닝』은 지능형 시스템을 구축하려면 반드시 알아야 할 머신러닝, 딥러닝 분야 핵심 개념과 이론을 이해하기 쉽게 설명한다. 사이킷런, 케라스, 텐서플로를 이용해 실전에서 바로 활용 가능한 예제로 모델을 훈련하고 신경망을 구축하는 방법을 상세하게 안내한다. 장마다 제공하는 연습문제를 풀며 익힌 내용을 확인하고 응용할 수도 있다. 머신러닝을 배우고 싶지만 어디서부터 시작해야 할지 막막하다면, 이 책이 인공지능 마스터로 가는 길에 좋은 친구가 될 것이다. 이번에 출간된 2판은 텐서플로 2를 반영하고 비지도 학습, 자연어 처리, 생성적 적대 신경망(GAN) 등 최신 기법을 추가했다. 사이킷런과 텐서플로 2에 더해 케라스를 사용하며, 예제 코드도 소프트웨어 최신 버전에 맞춰 갱신했다. 1부(머신러닝)에는 1개 장이 추가되었고, 2부(신경망과 딥러닝)는 최신 딥러닝 기법을 방대하게 수록하여 대폭 개정되었다. 부록 2개 장이 추가되었으며, 시각적 편의를 위해 전면 컬러로 인쇄했다.                    '"
      ]
     },
     "execution_count": 139,
     "metadata": {},
     "output_type": "execute_result"
    }
   ],
   "source": [
    "soup.select('textarea.txtContentText')[0].text"
   ]
  },
  {
   "cell_type": "code",
   "execution_count": 138,
   "metadata": {
    "collapsed": true,
    "jupyter": {
     "outputs_hidden": true,
     "source_hidden": true
    }
   },
   "outputs": [
    {
     "data": {
      "text/plain": [
       "'\\r\\n[PART 1 머신러닝]CHAPTER 1 한눈에 보는 머신러닝1.1 머신러닝이란? 1.2 왜 머신러닝을 사용하는가?1.3 애플리케이션 사례1.4 머신러닝 시스템의 종류1.5 머신러닝의 주요 도전 과제1.6 테스트와 검증1.7 연습문제CHAPTER 2 머신러닝 프로젝트 처음부터 끝까지2.1 실제 데이터로 작업하기2.2 큰 그림 보기2.3 데이터 가져오기 2.4 데이터 이해를 위한 탐색과 시각화2.5 머신러닝 알고리즘을 위한 데이터 준비2.6 모델 선택과 훈련2.7 모델 세부 튜닝2.8 론칭, 모니터링, 그리고 시스템 유지 보수2.9 직접 해보세요!2.10 연습문제CHAPTER 3 분류3.1 MNIST 3.2 이진 분류기 훈련3.3 성능 측정3.4 다중 분류3.5 에러 분석3.6 다중 레이블 분류3.7 다중 출력 분류3.8 연습문제CHAPTER 4 모델 훈련4.1 선형 회귀4.2 경사 하강법4.3 다항 회귀4.4 학습 곡선4.5 규제가 있는 선형 모델4.6 로지스틱 회귀4.7 연습문제CHAPTER 5 서포트 벡터 머신5.1 선형 SVM 분류5.2 비선형 SVM 분류5.3 SVM 회귀5.4 SVM 이론5.5 연습문제CHAPTER 6 결정 트리6.1 결정 트리 학습과 시각화6.2 예측하기6.3 클래스 확률 추정6.4 CART 훈련 알고리즘6.5 계산 복잡도6.6 지니 불순도 또는 엔트로피?6.7 규제 매개변수6.8 회귀6.9 불안정성6.10 연습문제CHAPTER 7 앙상블 학습과 랜덤 포레스트7.1 투표 기반 분류기7.2 배깅과 페이스팅7.3 랜덤 패치와 랜덤 서브스페이스7.4 랜덤 포레스트7.5 부스팅7.6 스태킹7.7 연습문제CHAPTER 8 차원 축소8.1 차원의 저주8.2 차원 축소를 위한 접근 방법8.3 PCA8.4 커널 PCA8.5 LLE8.6 다른 차원 축소 기법8.7 연습문제CHAPTER 9 비지도 학습9.1 군집9.2 가우시안 혼합9.3 연습문제[PART 2 신경망과 머신러닝]CHAPTER 10 케라스를 사용한 인공 신경망 소개10.1 생물학적 뉴런에서 인공 뉴런까지10.2 케라스로 다층 퍼셉트론 구현하기10.3 신경망 하이퍼파라미터 튜닝하기10.4 연습문제CHAPTER 11 심층 신경망 훈련하기11.1 그레이디언트 소실과 폭주 문제11.2 사전훈련된 층 재사용하기11.3 고속 옵티마이저11.4 규제를 사용해 과대적합 피하기11.5 요약 및 실용적인 가이드라인11.6 연습문제CHAPTER 12 텐서플로를 사용한 사용자 정의 모델과 훈련12.1 텐서플로 훑어보기12.2 넘파이처럼 텐서플로 사용하기12.3 사용자 정의 모델과 훈련 알고리즘12.4 텐서플로 함수와 그래프12.5 연습문제CHAPTER 13 텐서플로에서 데이터 적재와 전처리하기13.1 데이터 API13.2 TFRecord 포맷13.3 입력 특성 전처리13.4 TF 변환13.5 텐서플로 데이터셋 (TFDS) 프로젝트13.6 연습문제CHAPTER 14 합성곱 신경망을 사용한 컴퓨터 비전14.1 시각 피질의 구조14.2 합성곱 층14.3 풀링 층14.4 CNN 구조14.5 케라스를 사용해 ResNet-34 CNN 구현하기14.6 케라스에서 제공하는 사전훈련된 모델 사용하기14.7 사전훈련된 모델을 사용한 전이 학습14.8 분류와 위치 추정14.9 객체 탐지14.10 시맨틱 분할14.11 연습문제CHAPTER 15 RNN과 CNN을 사용해 시퀀스 처리하기15.1 순환 뉴런과 순환 층15.2 RNN 훈련하기15.3 시계열 예측하기15.4 긴 시퀀스 다루기15.5 연습문제CHAPTER 16 RNN과 어텐션을 사용한 자연어 처리16.1 Char-RNN을 사용해 셰익스피어 같은 텍스트 생성하기16.2 감성 분석16.3 신경망 기계 번역을 위한 인코더-디코더 네트워크16.4 어텐션 메커니즘16.5 언어 모델 분야의 최근 혁신16.6 연습문제CHAPTER 17 오토인코더와 GAN을 사용한 표현 학습과 생성적 학습17.1 효율적인 데이터 표현17.2 과소완전 선형 오토인코더로 PCA 수행하기17.3 적층 오토인코더17.4 합성곱 오토인코더17.5 순환 오토인코더17.6 잡음 제거 오토인코더17.7 희소 오토인코더17.8 변이형 오토인코더17.9 생성적 적대 신경망17.10 연습문제CHAPTER 18 강화 학습18.1 보상을 최적화하기 위한 학습18.2 정책 탐색18.3 OpenAI 짐18.4 신경망 정책 18.5 행동 평가: 신용 할당 문제18.6 정책 그레이디언트18.7 마르코프 결정 과정18.8 시간차 학습 18.9 Q-러닝18.10 심층 Q-러닝 구현하기18.11 심층 Q-러닝의 변종18.12 TF-Agents 라이브러리18.13 그 외 유명한 강화 학습 알고리즘18.14 연습문제CHAPTER 19 대규모 텐서플로 모델 훈련과 배포19.1 텐서플로 모델 서빙19.2 모바일 또는 임베디드 장치에 모델 배포하기19.3 계산 속도를 높이기 위해 GPU 사용하기19.4 다중 장치에서 모델 훈련하기19.5 연습문제[PART 3 부록]부록 A 연습문제 정답부록 B 머신러닝 프로젝트 체크리스트부록 C SVM 쌍대 문제부록 D 자동 미분   부록 E 유명한 다른 인공 신경망 구조부록 F 특수한 데이터 구조부록 G 텐서플로 그래프                 '"
      ]
     },
     "execution_count": 138,
     "metadata": {},
     "output_type": "execute_result"
    }
   ],
   "source": [
    "soup.select('textarea.txtContentText')[1].text"
   ]
  },
  {
   "cell_type": "code",
   "execution_count": 142,
   "metadata": {
    "collapsed": true,
    "jupyter": {
     "outputs_hidden": true
    }
   },
   "outputs": [
    {
     "data": {
      "text/plain": [
       "[<textarea class=\"txtContentText\" style=\"display:none;\">\n",
       " <b>머신러닝 전문가로 이끄는 최고의 실전 지침서 <br>텐서플로 2.0을 반영한 풀컬러 개정판 </br></b><br><br/>『핸즈온 머신러닝』은 지능형 시스템을 구축하려면 반드시 알아야 할 머신러닝, 딥러닝 분야 핵심 개념과 이론을 이해하기 쉽게 설명한다. 사이킷런, 케라스, 텐서플로를 이용해 실전에서 바로 활용 가능한 예제로 모델을 훈련하고 신경망을 구축하는 방법을 상세하게 안내한다. 장마다 제공하는 연습문제를 풀며 익힌 내용을 확인하고 응용할 수도 있다. 머신러닝을 배우고 싶지만 어디서부터 시작해야 할지 막막하다면, 이 책이 인공지능 마스터로 가는 길에 좋은 친구가 될 것이다. <br/><br/>이번에 출간된 2판은 텐서플로 2를 반영하고 비지도 학습, 자연어 처리, 생성적 적대 신경망(GAN) 등 최신 기법을 추가했다. 사이킷런과 텐서플로 2에 더해 케라스를 사용하며, 예제 코드도 소프트웨어 최신 버전에 맞춰 갱신했다. 1부(머신러닝)에는 1개 장이 추가되었고, 2부(신경망과 딥러닝)는 최신 딥러닝 기법을 방대하게 수록하여 대폭 개정되었다. 부록 2개 장이 추가되었으며, 시각적 편의를 위해 전면 컬러로 인쇄했다.<br/>                    </br></textarea>,\n",
       " <textarea class=\"txtContentText\" style=\"display:none;\">\n",
       " <b>[PART 1 머신러닝]<br/><br/>CHAPTER 1 한눈에 보는 머신러닝</b><br/>1.1 머신러닝이란? <br/>1.2 왜 머신러닝을 사용하는가?<br/>1.3 애플리케이션 사례<br/>1.4 머신러닝 시스템의 종류<br/>1.5 머신러닝의 주요 도전 과제<br/>1.6 테스트와 검증<br/>1.7 연습문제<br/><br/><b>CHAPTER 2 머신러닝 프로젝트 처음부터 끝까지</b><br/>2.1 실제 데이터로 작업하기<br/>2.2 큰 그림 보기<br/>2.3 데이터 가져오기 <br/>2.4 데이터 이해를 위한 탐색과 시각화<br/>2.5 머신러닝 알고리즘을 위한 데이터 준비<br/>2.6 모델 선택과 훈련<br/>2.7 모델 세부 튜닝<br/>2.8 론칭, 모니터링, 그리고 시스템 유지 보수<br/>2.9 직접 해보세요!<br/>2.10 연습문제<br/><br/><b>CHAPTER 3 분류</b><br/>3.1 MNIST <br/>3.2 이진 분류기 훈련<br/>3.3 성능 측정<br/>3.4 다중 분류<br/>3.5 에러 분석<br/>3.6 다중 레이블 분류<br/>3.7 다중 출력 분류<br/>3.8 연습문제<br/><br/><b>CHAPTER 4 모델 훈련</b><br/>4.1 선형 회귀<br/>4.2 경사 하강법<br/>4.3 다항 회귀<br/>4.4 학습 곡선<br/>4.5 규제가 있는 선형 모델<br/>4.6 로지스틱 회귀<br/>4.7 연습문제<br/><br/><b>CHAPTER 5 서포트 벡터 머신</b><br/>5.1 선형 SVM 분류<br/>5.2 비선형 SVM 분류<br/>5.3 SVM 회귀<br/>5.4 SVM 이론<br/>5.5 연습문제<br/><br/><b>CHAPTER 6 결정 트리</b><br/>6.1 결정 트리 학습과 시각화<br/>6.2 예측하기<br/>6.3 클래스 확률 추정<br/>6.4 CART 훈련 알고리즘<br/>6.5 계산 복잡도<br/>6.6 지니 불순도 또는 엔트로피?<br/>6.7 규제 매개변수<br/>6.8 회귀<br/>6.9 불안정성<br/>6.10 연습문제<br/><br/><b>CHAPTER 7 앙상블 학습과 랜덤 포레스트</b><br/>7.1 투표 기반 분류기<br/>7.2 배깅과 페이스팅<br/>7.3 랜덤 패치와 랜덤 서브스페이스<br/>7.4 랜덤 포레스트<br/>7.5 부스팅<br/>7.6 스태킹<br/>7.7 연습문제<br/><br/><b>CHAPTER 8 차원 축소</b><br/>8.1 차원의 저주<br/>8.2 차원 축소를 위한 접근 방법<br/>8.3 PCA<br/>8.4 커널 PCA<br/>8.5 LLE<br/>8.6 다른 차원 축소 기법<br/>8.7 연습문제<br/><br/><b>CHAPTER 9 비지도 학습</b><br/>9.1 군집<br/>9.2 가우시안 혼합<br/>9.3 연습문제<br/><br/><br/><b>[PART 2 신경망과 머신러닝]<br/><br/>CHAPTER 10 케라스를 사용한 인공 신경망 소개</b><br/>10.1 생물학적 뉴런에서 인공 뉴런까지<br/>10.2 케라스로 다층 퍼셉트론 구현하기<br/>10.3 신경망 하이퍼파라미터 튜닝하기<br/>10.4 연습문제<br/><br/><b>CHAPTER 11 심층 신경망 훈련하기</b><br/>11.1 그레이디언트 소실과 폭주 문제<br/>11.2 사전훈련된 층 재사용하기<br/>11.3 고속 옵티마이저<br/>11.4 규제를 사용해 과대적합 피하기<br/>11.5 요약 및 실용적인 가이드라인<br/>11.6 연습문제<br/><br/><b>CHAPTER 12 텐서플로를 사용한 사용자 정의 모델과 훈련</b><br/>12.1 텐서플로 훑어보기<br/>12.2 넘파이처럼 텐서플로 사용하기<br/>12.3 사용자 정의 모델과 훈련 알고리즘<br/>12.4 텐서플로 함수와 그래프<br/>12.5 연습문제<br/><br/><b>CHAPTER 13 텐서플로에서 데이터 적재와 전처리하기</b><br/>13.1 데이터 API<br/>13.2 TFRecord 포맷<br/>13.3 입력 특성 전처리<br/>13.4 TF 변환<br/>13.5 텐서플로 데이터셋 (TFDS) 프로젝트<br/>13.6 연습문제<br/><br/><b>CHAPTER 14 합성곱 신경망을 사용한 컴퓨터 비전</b><br/>14.1 시각 피질의 구조<br/>14.2 합성곱 층<br/>14.3 풀링 층<br/>14.4 CNN 구조<br/>14.5 케라스를 사용해 ResNet-34 CNN 구현하기<br/>14.6 케라스에서 제공하는 사전훈련된 모델 사용하기<br/>14.7 사전훈련된 모델을 사용한 전이 학습<br/>14.8 분류와 위치 추정<br/>14.9 객체 탐지<br/>14.10 시맨틱 분할<br/>14.11 연습문제<br/><br/><b>CHAPTER 15 RNN과 CNN을 사용해 시퀀스 처리하기</b><br/>15.1 순환 뉴런과 순환 층<br/>15.2 RNN 훈련하기<br/>15.3 시계열 예측하기<br/>15.4 긴 시퀀스 다루기<br/>15.5 연습문제<br/><br/><b>CHAPTER 16 RNN과 어텐션을 사용한 자연어 처리</b><br/>16.1 Char-RNN을 사용해 셰익스피어 같은 텍스트 생성하기<br/>16.2 감성 분석<br/>16.3 신경망 기계 번역을 위한 인코더-디코더 네트워크<br/>16.4 어텐션 메커니즘<br/>16.5 언어 모델 분야의 최근 혁신<br/>16.6 연습문제<br/><br/><b>CHAPTER 17 오토인코더와 GAN을 사용한 표현 학습과 생성적 학습</b><br/>17.1 효율적인 데이터 표현<br/>17.2 과소완전 선형 오토인코더로 PCA 수행하기<br/>17.3 적층 오토인코더<br/>17.4 합성곱 오토인코더<br/>17.5 순환 오토인코더<br/>17.6 잡음 제거 오토인코더<br/>17.7 희소 오토인코더<br/>17.8 변이형 오토인코더<br/>17.9 생성적 적대 신경망<br/>17.10 연습문제<br/><br/><b>CHAPTER 18 강화 학습</b><br/>18.1 보상을 최적화하기 위한 학습<br/>18.2 정책 탐색<br/>18.3 OpenAI 짐<br/>18.4 신경망 정책 <br/>18.5 행동 평가: 신용 할당 문제<br/>18.6 정책 그레이디언트<br/>18.7 마르코프 결정 과정<br/>18.8 시간차 학습 <br/>18.9 Q-러닝<br/>18.10 심층 Q-러닝 구현하기<br/>18.11 심층 Q-러닝의 변종<br/>18.12 TF-Agents 라이브러리<br/>18.13 그 외 유명한 강화 학습 알고리즘<br/>18.14 연습문제<br/><br/><b>CHAPTER 19 대규모 텐서플로 모델 훈련과 배포</b><br/>19.1 텐서플로 모델 서빙<br/>19.2 모바일 또는 임베디드 장치에 모델 배포하기<br/>19.3 계산 속도를 높이기 위해 GPU 사용하기<br/>19.4 다중 장치에서 모델 훈련하기<br/>19.5 연습문제<br/><br/><br/><b>[PART 3 부록]</b><br/><br/>부록 A 연습문제 정답<br/>부록 B 머신러닝 프로젝트 체크리스트<br/>부록 C SVM 쌍대 문제<br/>부록 D 자동 미분   <br/>부록 E 유명한 다른 인공 신경망 구조<br/>부록 F 특수한 데이터 구조<br/>부록 G 텐서플로 그래프 <br/>                </textarea>]"
      ]
     },
     "execution_count": 142,
     "metadata": {},
     "output_type": "execute_result"
    }
   ],
   "source": [
    "soup.select('textarea.txtContentText')"
   ]
  },
  {
   "cell_type": "code",
   "execution_count": null,
   "metadata": {},
   "outputs": [],
   "source": []
  }
 ],
 "metadata": {
  "kernelspec": {
   "display_name": "Python 3",
   "language": "python",
   "name": "python3"
  },
  "language_info": {
   "codemirror_mode": {
    "name": "ipython",
    "version": 3
   },
   "file_extension": ".py",
   "mimetype": "text/x-python",
   "name": "python",
   "nbconvert_exporter": "python",
   "pygments_lexer": "ipython3",
   "version": "3.7.3"
  }
 },
 "nbformat": 4,
 "nbformat_minor": 4
}
