{
 "cells": [
  {
   "cell_type": "code",
   "execution_count": 1,
   "metadata": {},
   "outputs": [],
   "source": [
    "import pandas as pd\n",
    "pd.set_option('display.max_row', 500)"
   ]
  },
  {
   "cell_type": "code",
   "execution_count": 11,
   "metadata": {},
   "outputs": [],
   "source": [
    "bookData = pd.read_csv('AI_Book_Data.csv')"
   ]
  },
  {
   "cell_type": "code",
   "execution_count": 12,
   "metadata": {},
   "outputs": [
    {
     "data": {
      "text/html": [
       "<div>\n",
       "<style scoped>\n",
       "    .dataframe tbody tr th:only-of-type {\n",
       "        vertical-align: middle;\n",
       "    }\n",
       "\n",
       "    .dataframe tbody tr th {\n",
       "        vertical-align: top;\n",
       "    }\n",
       "\n",
       "    .dataframe thead th {\n",
       "        text-align: right;\n",
       "    }\n",
       "</style>\n",
       "<table border=\"1\" class=\"dataframe\">\n",
       "  <thead>\n",
       "    <tr style=\"text-align: right;\">\n",
       "      <th></th>\n",
       "      <th>제목</th>\n",
       "      <th>부제</th>\n",
       "      <th>저자</th>\n",
       "      <th>분야</th>\n",
       "      <th>출판일</th>\n",
       "      <th>출판사</th>\n",
       "      <th>가격</th>\n",
       "      <th>목차</th>\n",
       "      <th>소개</th>\n",
       "      <th>출판사제공</th>\n",
       "      <th>판매지수</th>\n",
       "    </tr>\n",
       "  </thead>\n",
       "  <tbody>\n",
       "    <tr>\n",
       "      <th>0</th>\n",
       "      <td>에이트</td>\n",
       "      <td>인공지능에게 대체되지 않는 나를 만드는 법</td>\n",
       "      <td>이지성</td>\n",
       "      <td>자기계발</td>\n",
       "      <td>20191021</td>\n",
       "      <td>차이정원</td>\n",
       "      <td>17000</td>\n",
       "      <td>\\r\\n당신에게 묻는다prologue 잡스는 왜 죽기 직전까지 인공지능을 붙잡고 있...</td>\n",
       "      <td>\\r\\n하버드·스탠퍼드·NASA·구글……아이비리그와 실리콘밸리의 천재들은 인공지능 ...</td>\n",
       "      <td>인류가 단 한 번도 경험하지 못한 시대가 오고 있다!『리딩으로 리드하라...</td>\n",
       "      <td>&lt;span class=\"gd_sellNum\"&gt;\\n&lt;em class=\"divi\"&gt;|&lt;...</td>\n",
       "    </tr>\n",
       "    <tr>\n",
       "      <th>1</th>\n",
       "      <td>핸즈온 머신러닝</td>\n",
       "      <td>사이킷런, 케라스, 텐서플로 2를 활용한 머신러닝, 딥러닝 완벽 실무</td>\n",
       "      <td>오렐리앙 제롱</td>\n",
       "      <td>IT 모바일</td>\n",
       "      <td>20200504</td>\n",
       "      <td>한빛미디어</td>\n",
       "      <td>55000</td>\n",
       "      <td>\\r\\n[PART 1 머신러닝]CHAPTER 1 한눈에 보는 머신러닝1.1 머신러닝...</td>\n",
       "      <td>\\r\\n머신러닝 전문가로 이끄는 최고의 실전 지침서 텐서플로 2.0을 반영한 풀컬러...</td>\n",
       "      <td>컬러판으로 돌아온 아마존 인공지능 분야 부동의 1위 도서머신러닝 전문가...</td>\n",
       "      <td>&lt;span class=\"gd_sellNum\"&gt;\\n&lt;em class=\"divi\"&gt;|&lt;...</td>\n",
       "    </tr>\n",
       "    <tr>\n",
       "      <th>2</th>\n",
       "      <td>슈퍼인텔리전스</td>\n",
       "      <td>경로, 위험, 전략</td>\n",
       "      <td>닉 보스트롬</td>\n",
       "      <td>자연과학</td>\n",
       "      <td>20170405</td>\n",
       "      <td>까치(까치글방)</td>\n",
       "      <td>25000</td>\n",
       "      <td>\\r\\n아직 끝이 나지 않은 이야기 : 참새와 부엉이의 우화서문감사의 글1 과거의 ...</td>\n",
       "      <td>\\r\\n2014년 출간 이후 [뉴욕 타임스], 아마존 베스트셀러영미권에서 13만 부...</td>\n",
       "      <td>\\r 2016년 알파고와 한국 프로 바둑기사 이세돌의 대국은 전 세계적인...</td>\n",
       "      <td>&lt;span class=\"gd_sellNum\"&gt;\\n&lt;em class=\"divi\"&gt;|&lt;...</td>\n",
       "    </tr>\n",
       "    <tr>\n",
       "      <th>3</th>\n",
       "      <td>우리 아이 AI</td>\n",
       "      <td>4차산업혁명시대 인공지능 융합교육법</td>\n",
       "      <td>박찬</td>\n",
       "      <td>사회 정치</td>\n",
       "      <td>20200302</td>\n",
       "      <td>다빈치books</td>\n",
       "      <td>24000</td>\n",
       "      <td>\\r\\n1. 인공지능 시대- 패러다임 전환인공지능의 이해 머신러닝과 딥러닝 활용 핀...</td>\n",
       "      <td>\\r\\n인공지능 교육에는 패러다임 전환이 필요하다!인공지능 시대의 융합교육법초격차의...</td>\n",
       "      <td>학교와 가정에서 우리 아이들과 함께 인공지능 교육을 시작하세요더 많은 ...</td>\n",
       "      <td>&lt;span class=\"gd_sellNum\"&gt;\\n&lt;em class=\"divi\"&gt;|&lt;...</td>\n",
       "    </tr>\n",
       "    <tr>\n",
       "      <th>4</th>\n",
       "      <td>십 대가 알아야 할 인공지능과 4차 산업혁명의 미래</td>\n",
       "      <td>인간의 삶, 사회 그리고 컴퓨터 과학 기술을 함께 보다! 처음 만나는 디지털인문학</td>\n",
       "      <td>전승민</td>\n",
       "      <td>청소년</td>\n",
       "      <td>20180520</td>\n",
       "      <td>팜파스</td>\n",
       "      <td>13000</td>\n",
       "      <td>\\r\\n들어가는 글Chapter 1 누구도 예측하지 못한 신세계가 열리다 -자동화 ...</td>\n",
       "      <td>\\r\\n이세돌과 알파고의 대국 이후 다양한 매체에서 ‘바야흐로 4차 산업혁명의 시대...</td>\n",
       "      <td>\\r 인간만의 고유한 가치, 인문학적 감각! 이제 컴퓨터과학과 인문학을 ...</td>\n",
       "      <td>&lt;span class=\"gd_sellNum\"&gt;\\n&lt;em class=\"divi\"&gt;|&lt;...</td>\n",
       "    </tr>\n",
       "  </tbody>\n",
       "</table>\n",
       "</div>"
      ],
      "text/plain": [
       "                             제목  \\\n",
       "0                           에이트   \n",
       "1                      핸즈온 머신러닝   \n",
       "2                       슈퍼인텔리전스   \n",
       "3                      우리 아이 AI   \n",
       "4  십 대가 알아야 할 인공지능과 4차 산업혁명의 미래   \n",
       "\n",
       "                                               부제       저자      분야       출판일  \\\n",
       "0                        인공지능에게 대체되지 않는 나를 만드는 법       이지성    자기계발  20191021   \n",
       "1         사이킷런, 케라스, 텐서플로 2를 활용한 머신러닝, 딥러닝 완벽 실무   오렐리앙 제롱  IT 모바일  20200504   \n",
       "2                                     경로, 위험, 전략    닉 보스트롬    자연과학  20170405   \n",
       "3                            4차산업혁명시대 인공지능 융합교육법        박찬   사회 정치  20200302   \n",
       "4  인간의 삶, 사회 그리고 컴퓨터 과학 기술을 함께 보다! 처음 만나는 디지털인문학       전승민     청소년  20180520   \n",
       "\n",
       "        출판사     가격                                                 목차  \\\n",
       "0      차이정원  17000  \\r\\n당신에게 묻는다prologue 잡스는 왜 죽기 직전까지 인공지능을 붙잡고 있...   \n",
       "1     한빛미디어  55000  \\r\\n[PART 1 머신러닝]CHAPTER 1 한눈에 보는 머신러닝1.1 머신러닝...   \n",
       "2  까치(까치글방)  25000  \\r\\n아직 끝이 나지 않은 이야기 : 참새와 부엉이의 우화서문감사의 글1 과거의 ...   \n",
       "3  다빈치books  24000  \\r\\n1. 인공지능 시대- 패러다임 전환인공지능의 이해 머신러닝과 딥러닝 활용 핀...   \n",
       "4       팜파스  13000  \\r\\n들어가는 글Chapter 1 누구도 예측하지 못한 신세계가 열리다 -자동화 ...   \n",
       "\n",
       "                                                  소개  \\\n",
       "0  \\r\\n하버드·스탠퍼드·NASA·구글……아이비리그와 실리콘밸리의 천재들은 인공지능 ...   \n",
       "1  \\r\\n머신러닝 전문가로 이끄는 최고의 실전 지침서 텐서플로 2.0을 반영한 풀컬러...   \n",
       "2  \\r\\n2014년 출간 이후 [뉴욕 타임스], 아마존 베스트셀러영미권에서 13만 부...   \n",
       "3  \\r\\n인공지능 교육에는 패러다임 전환이 필요하다!인공지능 시대의 융합교육법초격차의...   \n",
       "4  \\r\\n이세돌과 알파고의 대국 이후 다양한 매체에서 ‘바야흐로 4차 산업혁명의 시대...   \n",
       "\n",
       "                                               출판사제공  \\\n",
       "0         인류가 단 한 번도 경험하지 못한 시대가 오고 있다!『리딩으로 리드하라...   \n",
       "1         컬러판으로 돌아온 아마존 인공지능 분야 부동의 1위 도서머신러닝 전문가...   \n",
       "2        \\r 2016년 알파고와 한국 프로 바둑기사 이세돌의 대국은 전 세계적인...   \n",
       "3         학교와 가정에서 우리 아이들과 함께 인공지능 교육을 시작하세요더 많은 ...   \n",
       "4        \\r 인간만의 고유한 가치, 인문학적 감각! 이제 컴퓨터과학과 인문학을 ...   \n",
       "\n",
       "                                                판매지수  \n",
       "0  <span class=\"gd_sellNum\">\\n<em class=\"divi\">|<...  \n",
       "1  <span class=\"gd_sellNum\">\\n<em class=\"divi\">|<...  \n",
       "2  <span class=\"gd_sellNum\">\\n<em class=\"divi\">|<...  \n",
       "3  <span class=\"gd_sellNum\">\\n<em class=\"divi\">|<...  \n",
       "4  <span class=\"gd_sellNum\">\\n<em class=\"divi\">|<...  "
      ]
     },
     "execution_count": 12,
     "metadata": {},
     "output_type": "execute_result"
    }
   ],
   "source": [
    "bookData.head()"
   ]
  },
  {
   "cell_type": "code",
   "execution_count": 13,
   "metadata": {},
   "outputs": [
    {
     "data": {
      "text/plain": [
       "0         자기계발\n",
       "1       IT 모바일\n",
       "2         자연과학\n",
       "3        사회 정치\n",
       "4          청소년\n",
       "        ...   \n",
       "682         인문\n",
       "683       자기계발\n",
       "684     IT 모바일\n",
       "685     IT 모바일\n",
       "686    휴고상 수상작\n",
       "Name: 분야, Length: 687, dtype: object"
      ]
     },
     "execution_count": 13,
     "metadata": {},
     "output_type": "execute_result"
    }
   ],
   "source": [
    "bookData['분야']"
   ]
  },
  {
   "cell_type": "code",
   "execution_count": 14,
   "metadata": {},
   "outputs": [
    {
     "data": {
      "text/plain": [
       "IT 모바일        136\n",
       "전집            131\n",
       "경제 경영         113\n",
       "대학교재           59\n",
       "어린이            49\n",
       "인문             45\n",
       "사회 정치          37\n",
       "자연과학           31\n",
       "소설/시/희곡        28\n",
       "청소년            21\n",
       "가정 살림          11\n",
       "자기계발            9\n",
       "수험서 자격증         6\n",
       "종교              2\n",
       "건강 취미           2\n",
       "국어 외국어 사전       2\n",
       "예술              2\n",
       "휴고상 수상작         1\n",
       "유아              1\n",
       "볼로냐 라가치  상      1\n",
       "Name: 분야, dtype: int64"
      ]
     },
     "execution_count": 14,
     "metadata": {},
     "output_type": "execute_result"
    }
   ],
   "source": [
    "#카테고리 별 빈도수\n",
    "feildList = pd.Series(bookData['분야'])\n",
    "result = feildList.value_counts()\n",
    "result"
   ]
  },
  {
   "cell_type": "code",
   "execution_count": 16,
   "metadata": {},
   "outputs": [
    {
     "data": {
      "text/html": [
       "<div>\n",
       "<style scoped>\n",
       "    .dataframe tbody tr th:only-of-type {\n",
       "        vertical-align: middle;\n",
       "    }\n",
       "\n",
       "    .dataframe tbody tr th {\n",
       "        vertical-align: top;\n",
       "    }\n",
       "\n",
       "    .dataframe thead th {\n",
       "        text-align: right;\n",
       "    }\n",
       "</style>\n",
       "<table border=\"1\" class=\"dataframe\">\n",
       "  <thead>\n",
       "    <tr style=\"text-align: right;\">\n",
       "      <th></th>\n",
       "      <th>제목</th>\n",
       "      <th>부제</th>\n",
       "      <th>저자</th>\n",
       "      <th>분야</th>\n",
       "      <th>출판일</th>\n",
       "      <th>출판사</th>\n",
       "      <th>가격</th>\n",
       "      <th>목차</th>\n",
       "      <th>소개</th>\n",
       "      <th>출판사제공</th>\n",
       "      <th>판매지수</th>\n",
       "    </tr>\n",
       "  </thead>\n",
       "  <tbody>\n",
       "    <tr>\n",
       "      <th>686</th>\n",
       "      <td>소프트웨어 객체의 생애 주기</td>\n",
       "      <td>NaN</td>\n",
       "      <td>테드 창</td>\n",
       "      <td>휴고상 수상작</td>\n",
       "      <td>20130809</td>\n",
       "      <td>북스피어</td>\n",
       "      <td>8800</td>\n",
       "      <td>\\r\\n소프트웨어 객체의 생애 주기창작 노트해설</td>\n",
       "      <td>\\r\\nSF사상 보기 드문 정치함과 우아함을 갖춘 작가 테드 창의 \\r\\n휴고 상,...</td>\n",
       "      <td>NaN</td>\n",
       "      <td>NaN</td>\n",
       "    </tr>\n",
       "  </tbody>\n",
       "</table>\n",
       "</div>"
      ],
      "text/plain": [
       "                  제목   부제    저자       분야       출판일   출판사    가격  \\\n",
       "686  소프트웨어 객체의 생애 주기  NaN  테드 창  휴고상 수상작  20130809  북스피어  8800   \n",
       "\n",
       "                                             목차  \\\n",
       "686  \\r\\n소프트웨어 객체의 생애 주기창작 노트해설                   \n",
       "\n",
       "                                                    소개 출판사제공 판매지수  \n",
       "686  \\r\\nSF사상 보기 드문 정치함과 우아함을 갖춘 작가 테드 창의 \\r\\n휴고 상,...   NaN  NaN  "
      ]
     },
     "execution_count": 16,
     "metadata": {},
     "output_type": "execute_result"
    }
   ],
   "source": [
    "bookData[bookData['분야'].isin(['휴고상 수상작'])]"
   ]
  },
  {
   "cell_type": "code",
   "execution_count": null,
   "metadata": {},
   "outputs": [],
   "source": []
  }
 ],
 "metadata": {
  "kernelspec": {
   "display_name": "Python 3",
   "language": "python",
   "name": "python3"
  },
  "language_info": {
   "codemirror_mode": {
    "name": "ipython",
    "version": 3
   },
   "file_extension": ".py",
   "mimetype": "text/x-python",
   "name": "python",
   "nbconvert_exporter": "python",
   "pygments_lexer": "ipython3",
   "version": "3.7.3"
  }
 },
 "nbformat": 4,
 "nbformat_minor": 4
}
