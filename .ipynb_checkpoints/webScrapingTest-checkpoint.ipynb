{
 "cells": [
  {
   "cell_type": "code",
   "execution_count": 1,
   "metadata": {},
   "outputs": [],
   "source": [
    "#import libraries\n",
    "import requests\n",
    "from bs4 import BeautifulSoup\n",
    "\n",
    "import pandas as pd\n",
    "import re\n"
   ]
  },
  {
   "cell_type": "code",
   "execution_count": 2,
   "metadata": {},
   "outputs": [
    {
     "name": "stdout",
     "output_type": "stream",
     "text": [
      "Done!\n"
     ]
    }
   ],
   "source": [
    "num = 1 #페이지 초기값\n",
    "while True:\n",
    "    page = requests.get('http://www.espn.com/mlb/history/leaders/_/breakdown/season/year/2019/start/{}' .format(num)) #url의 페이지 소스를 모두 가져온다.\n",
    "    soup = BeautifulSoup(page.text, 'html.parser') # BeautifulSoup으로 html을 파싱한다.\n",
    "    \n",
    "    #반복문 1회 때 DataFrame의 columns을 만든다\n",
    "    if num == 1: \n",
    "        header = soup.find('tr', attrs={'class': 'colhead'}) #컬럼명을 가져온다.\n",
    "        columns = [col.get_text() for col in header.find_all('td')] #컬럼명을 리스트로 만든다.\n",
    "        final_df = pd.DataFrame(columns= columns) #DataFrame을 만들고 컬럼명을 넣는다.\n",
    "        \n",
    "    players = soup.find_all('tr', attrs={'class': re.compile('row player-10-')}) #선수들의 정보를 가져온다.\n",
    "    \n",
    "    #만약 가져온 정보가 없다면 반복문을 종료함\n",
    "    if len(players) == 0: \n",
    "        break\n",
    "    \n",
    "    #선수들의 통계치를 DataFrame에 넣는다. \n",
    "    for player in players:\n",
    "        stats = [stat.get_text() for stat in player.find_all('td')] #통계치를 가져온다.\n",
    "        temp_df = pd.DataFrame(stats).transpose() #리스트 타입의 정보를 DataFrame으로 넣고 전치행렬한다.\n",
    "        temp_df.columns = columns #column명을 넣는다.\n",
    "        \n",
    "        final_df = pd.concat([final_df, temp_df], ignore_index = True)  #최종 DataFrame과 연결한다. \n",
    "    num += 50 #페이지 번호를 50간격으로 증가시킨다.\n",
    "print('Done!')\n",
    "\n",
    "#csv 형식으로 내보내기.\n",
    "final_df.to_csv(r'mlb_players_stats_2019.csv', index=False, sep=',', encoding='utf-8')"
   ]
  },
  {
   "cell_type": "code",
   "execution_count": null,
   "metadata": {},
   "outputs": [],
   "source": []
  }
 ],
 "metadata": {
  "kernelspec": {
   "display_name": "Python 3",
   "language": "python",
   "name": "python3"
  },
  "language_info": {
   "codemirror_mode": {
    "name": "ipython",
    "version": 3
   },
   "file_extension": ".py",
   "mimetype": "text/x-python",
   "name": "python",
   "nbconvert_exporter": "python",
   "pygments_lexer": "ipython3",
   "version": "3.7.3"
  }
 },
 "nbformat": 4,
 "nbformat_minor": 4
}
