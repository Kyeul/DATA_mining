{
 "cells": [
  {
   "cell_type": "code",
   "execution_count": 66,
   "metadata": {},
   "outputs": [],
   "source": [
    "import requests\n",
    "from bs4 import BeautifulSoup\n",
    "\n",
    "import pandas as pd\n",
    "import re"
   ]
  },
  {
   "cell_type": "code",
   "execution_count": 2,
   "metadata": {},
   "outputs": [
    {
     "name": "stdout",
     "output_type": "stream",
     "text": [
      "Done!\n",
      "총 개수:  807\n"
     ]
    }
   ],
   "source": [
    "#크롤링을 통해 책의 고유 ID를 수집\n",
    "num = 1\n",
    "itemids = []\n",
    "i = 1\n",
    "\n",
    "#책 id를 추출하는 정규식\n",
    "compiler1 = re.compile('/Product/Goods/\\d{5,8}')\n",
    "compiler2 = re.compile('\\d{5,8}')\n",
    "\n",
    "while True:\n",
    "    url = 'http://www.yes24.com/searchcorner/Search?keywordAd=&keyword=&query=%c0%ce%b0%f8%c1%f6%b4%c9&domain=BOOK&page_size=120&PageNumber={}&scode=012'\n",
    "    page = requests.get(url .format(num))\n",
    "    soup = BeautifulSoup(page.text, 'html.parser')\n",
    "    \n",
    "    bookInfo = soup.select('p.goods_name a')\n",
    "    if len(bookInfo) <= 0:\n",
    "        print('Done!')\n",
    "        break\n",
    "    \n",
    "    for info in bookInfo:\n",
    "        try:\n",
    "            itemid=compiler1.search(str(info)).group()\n",
    "            itemids.append(compiler2.search(itemid).group())\n",
    "        except AttributeError:\n",
    "            pass\n",
    "\n",
    "    num += 1\n",
    "print('총 개수: ', len(itemids))"
   ]
  },
  {
   "cell_type": "code",
   "execution_count": 70,
   "metadata": {},
   "outputs": [],
   "source": [
    "# DataFrame 생성\n",
    "columns = ['제목','부제', '저자', '분야', '출판일', '출판사', '가격', '목차', '소개', '출판사제공', '판매지수'] #데이터 프레임의 컬럼명 \n",
    "dataFrame = pd.DataFrame(columns=columns) #dataFrame을 만들고 지정한 column명으로 설정"
   ]
  },
  {
   "cell_type": "code",
   "execution_count": 71,
   "metadata": {},
   "outputs": [
    {
     "name": "stdout",
     "output_type": "stream",
     "text": [
      "데이터 개수:  599\n",
      "Done!\n"
     ]
    }
   ],
   "source": [
    "# 책의 상세 페이지에 접근하여 데이터 크롤링\n",
    "n = 0 #dataframe index 초기화\n",
    "year = 2012  #검색 기간\n",
    "for i in itemids:\n",
    "    url = 'http://www.yes24.com/Product/Goods/{}?scode=032&OzSrank=1'\n",
    "    page = requests.get(url .format(i))\n",
    "    soup = BeautifulSoup(page.text, 'html.parser')\n",
    "    \n",
    "    #출간일\n",
    "    try:\n",
    "        date = soup.find('span', attrs={'class':'gd_date'}).text\n",
    "        date = re.sub('년|월|일|\\ ', '', date) #한글 단위를 모두 제거\n",
    "        if int(date[:4]) < year:\n",
    "            continue\n",
    "    except AttributeError:\n",
    "        continue\n",
    "    \n",
    "    \n",
    "    title = soup.find('h2', attrs={'class':'gd_name'}).text #제목을 가져온다.\n",
    "    if '세트' in title:\n",
    "        continue\n",
    "    try:\n",
    "        sub_title = soup.find('h3', attrs={'class':'gd_nameE'}).text  #부제목을 가져온다.\n",
    "    except AttributeError:\n",
    "        sub_title = None\n",
    "        \n",
    "    try:\n",
    "        author = soup.select('span.gd_auth a')[0].text #저자 정보\n",
    "    except IndexError:\n",
    "        try:\n",
    "            author = soup.select('span.gd_auth')[0].text #저자 정보\n",
    "            author = re.sub('\\\\r|\\\\n|\\ ', '', author)\n",
    "        except IndexError:\n",
    "            author = None\n",
    "            \n",
    "    feild = soup.select('div.gd_infoSet a')[1].text  #분야를 가져온다.\n",
    "\n",
    "    \n",
    "\n",
    "    publisher = soup.select('span.gd_pub')[0].text #출판사\n",
    "\n",
    "    #가격\n",
    "    price = soup.find('em', attrs={'class':'yes_m'}).text\n",
    "    price = re.sub(',|원', '', price)\n",
    "    \n",
    "    #목차\n",
    "    try:\n",
    "        contents = soup.select('textarea.txtContentText')[1].text\n",
    "    except IndexError:\n",
    "        try:\n",
    "            contents = soup.select('textarea.txtContentText')[0].text\n",
    "        except IndexError:\n",
    "            continue\n",
    "    \n",
    "    introduction = soup.select('textarea.txtContentText')[0].text #책소개\n",
    "    \n",
    "    #출판사 소개\n",
    "    try:\n",
    "        introduction_2 = soup.select('div#infoset_pubReivew')[0].text \n",
    "        introduction_2 = re.sub('출판사 리뷰|\\\\n|펼쳐보기접어보기', ' ', introduction_2) #불용어 제거\n",
    "    except IndexError:\n",
    "        introduction_2 = None\n",
    "    \n",
    "    sellnum = soup.find('span', attrs={'class':'gd_sellNum'}) #판매지수\n",
    "    if sellnum is Not None:\n",
    "        sullnum = re.compile('\\d+').search(sellnum)\n",
    "    \n",
    "    \n",
    "    #['제목','부제', '저자', '분야', '출판일', '출판사', '가격', '목차', '소개', '출판사제공']\n",
    "    dataFrame.loc[n] = [title, sub_title, author, feild, date, publisher, price, contents, introduction, introduction_2, sellnum]\n",
    "    n+= 1;\n",
    "\n",
    "print('데이터 개수: ', len(dataFrame))\n",
    "print('Done!')"
   ]
  },
  {
   "cell_type": "code",
   "execution_count": 81,
   "metadata": {},
   "outputs": [],
   "source": [
    "dataFrame.to_csv(r'AI_book_data.csv', index=False, sep=',', encoding='utf-8')"
   ]
  },
  {
   "cell_type": "code",
   "execution_count": 85,
   "metadata": {},
   "outputs": [
    {
     "ename": "TypeError",
     "evalue": "expected string or bytes-like object",
     "output_type": "error",
     "traceback": [
      "\u001b[1;31m---------------------------------------------------------------------------\u001b[0m",
      "\u001b[1;31mTypeError\u001b[0m                                 Traceback (most recent call last)",
      "\u001b[1;32m<ipython-input-85-e40389f9b552>\u001b[0m in \u001b[0;36m<module>\u001b[1;34m\u001b[0m\n\u001b[0;32m      1\u001b[0m \u001b[1;32mfor\u001b[0m \u001b[0mi\u001b[0m \u001b[1;32min\u001b[0m \u001b[0mrange\u001b[0m\u001b[1;33m(\u001b[0m\u001b[0mlen\u001b[0m\u001b[1;33m(\u001b[0m\u001b[0mdataFrame\u001b[0m\u001b[1;33m)\u001b[0m\u001b[1;33m)\u001b[0m\u001b[1;33m:\u001b[0m\u001b[1;33m\u001b[0m\u001b[1;33m\u001b[0m\u001b[0m\n\u001b[0;32m      2\u001b[0m     \u001b[1;32mtry\u001b[0m\u001b[1;33m:\u001b[0m\u001b[1;33m\u001b[0m\u001b[1;33m\u001b[0m\u001b[0m\n\u001b[1;32m----> 3\u001b[1;33m         \u001b[0mdataFrame\u001b[0m\u001b[1;33m.\u001b[0m\u001b[0miloc\u001b[0m\u001b[1;33m[\u001b[0m\u001b[0mi\u001b[0m\u001b[1;33m]\u001b[0m\u001b[1;33m[\u001b[0m\u001b[1;34m'판매지수'\u001b[0m\u001b[1;33m]\u001b[0m\u001b[1;33m=\u001b[0m\u001b[0mre\u001b[0m\u001b[1;33m.\u001b[0m\u001b[0msub\u001b[0m\u001b[1;33m(\u001b[0m\u001b[1;34m'\\\\n|\\\\r|판매지수|\\ '\u001b[0m\u001b[1;33m,\u001b[0m\u001b[1;34m''\u001b[0m\u001b[1;33m,\u001b[0m\u001b[0mdataFrame\u001b[0m\u001b[1;33m.\u001b[0m\u001b[0miloc\u001b[0m\u001b[1;33m[\u001b[0m\u001b[0mi\u001b[0m\u001b[1;33m]\u001b[0m\u001b[1;33m[\u001b[0m\u001b[1;34m'판매지수'\u001b[0m\u001b[1;33m]\u001b[0m\u001b[1;33m)\u001b[0m\u001b[1;33m\u001b[0m\u001b[1;33m\u001b[0m\u001b[0m\n\u001b[0m\u001b[0;32m      4\u001b[0m     \u001b[1;32mexcept\u001b[0m \u001b[0mAttributeError\u001b[0m\u001b[1;33m:\u001b[0m\u001b[1;33m\u001b[0m\u001b[1;33m\u001b[0m\u001b[0m\n\u001b[0;32m      5\u001b[0m         \u001b[1;32mpass\u001b[0m\u001b[1;33m\u001b[0m\u001b[1;33m\u001b[0m\u001b[0m\n",
      "\u001b[1;32m~\\Anaconda3\\lib\\re.py\u001b[0m in \u001b[0;36msub\u001b[1;34m(pattern, repl, string, count, flags)\u001b[0m\n\u001b[0;32m    190\u001b[0m     \u001b[0ma\u001b[0m \u001b[0mcallable\u001b[0m\u001b[1;33m,\u001b[0m \u001b[0mit\u001b[0m\u001b[0;31m'\u001b[0m\u001b[0ms\u001b[0m \u001b[0mpassed\u001b[0m \u001b[0mthe\u001b[0m \u001b[0mMatch\u001b[0m \u001b[0mobject\u001b[0m \u001b[1;32mand\u001b[0m \u001b[0mmust\u001b[0m \u001b[1;32mreturn\u001b[0m\u001b[1;33m\u001b[0m\u001b[1;33m\u001b[0m\u001b[0m\n\u001b[0;32m    191\u001b[0m     a replacement string to be used.\"\"\"\n\u001b[1;32m--> 192\u001b[1;33m     \u001b[1;32mreturn\u001b[0m \u001b[0m_compile\u001b[0m\u001b[1;33m(\u001b[0m\u001b[0mpattern\u001b[0m\u001b[1;33m,\u001b[0m \u001b[0mflags\u001b[0m\u001b[1;33m)\u001b[0m\u001b[1;33m.\u001b[0m\u001b[0msub\u001b[0m\u001b[1;33m(\u001b[0m\u001b[0mrepl\u001b[0m\u001b[1;33m,\u001b[0m \u001b[0mstring\u001b[0m\u001b[1;33m,\u001b[0m \u001b[0mcount\u001b[0m\u001b[1;33m)\u001b[0m\u001b[1;33m\u001b[0m\u001b[1;33m\u001b[0m\u001b[0m\n\u001b[0m\u001b[0;32m    193\u001b[0m \u001b[1;33m\u001b[0m\u001b[0m\n\u001b[0;32m    194\u001b[0m \u001b[1;32mdef\u001b[0m \u001b[0msubn\u001b[0m\u001b[1;33m(\u001b[0m\u001b[0mpattern\u001b[0m\u001b[1;33m,\u001b[0m \u001b[0mrepl\u001b[0m\u001b[1;33m,\u001b[0m \u001b[0mstring\u001b[0m\u001b[1;33m,\u001b[0m \u001b[0mcount\u001b[0m\u001b[1;33m=\u001b[0m\u001b[1;36m0\u001b[0m\u001b[1;33m,\u001b[0m \u001b[0mflags\u001b[0m\u001b[1;33m=\u001b[0m\u001b[1;36m0\u001b[0m\u001b[1;33m)\u001b[0m\u001b[1;33m:\u001b[0m\u001b[1;33m\u001b[0m\u001b[1;33m\u001b[0m\u001b[0m\n",
      "\u001b[1;31mTypeError\u001b[0m: expected string or bytes-like object"
     ]
    }
   ],
   "source": [
    "for i in range(len(dataFrame)):\n",
    "    try:\n",
    "        dataFrame.iloc[i]['판매지수']=re.sub('\\\\n|\\\\r|판매지수|\\ ','',dataFrame.iloc[i]['판매지수'])\n",
    "    except AttributeError:\n",
    "        pass"
   ]
  },
  {
   "cell_type": "code",
   "execution_count": 69,
   "metadata": {},
   "outputs": [
    {
     "name": "stdout",
     "output_type": "stream",
     "text": [
      "None\n"
     ]
    }
   ],
   "source": [
    "print(soup.find('span', attrs={'class':'gd_sellNum'}))"
   ]
  },
  {
   "cell_type": "code",
   "execution_count": 68,
   "metadata": {},
   "outputs": [
    {
     "data": {
      "text/plain": [
       "'소프트웨어 객체의 생애 주기'"
      ]
     },
     "execution_count": 68,
     "metadata": {},
     "output_type": "execute_result"
    }
   ],
   "source": [
    "title"
   ]
  },
  {
   "cell_type": "code",
   "execution_count": 87,
   "metadata": {},
   "outputs": [
    {
     "data": {
      "text/plain": [
       "'|490728란?'"
      ]
     },
     "execution_count": 87,
     "metadata": {},
     "output_type": "execute_result"
    }
   ],
   "source": [
    "re.sub('\\\\n|\\\\r|판매지수|\\ |\\|란\\? ','',dataFrame.iloc[0]['판매지수'])"
   ]
  },
  {
   "cell_type": "code",
   "execution_count": 92,
   "metadata": {},
   "outputs": [
    {
     "data": {
      "text/plain": [
       "<re.Match object; span=(1, 7), match='490728'>"
      ]
     },
     "execution_count": 92,
     "metadata": {},
     "output_type": "execute_result"
    }
   ],
   "source": [
    "a=re.compile('\\d+')\n",
    "a.search(dataFrame.iloc[0]['판매지수'])"
   ]
  },
  {
   "cell_type": "code",
   "execution_count": 93,
   "metadata": {},
   "outputs": [
    {
     "data": {
      "text/plain": [
       "'|490728란?'"
      ]
     },
     "execution_count": 93,
     "metadata": {},
     "output_type": "execute_result"
    }
   ],
   "source": [
    "dataFrame.iloc[0]['판매지수']"
   ]
  },
  {
   "cell_type": "code",
   "execution_count": 90,
   "metadata": {},
   "outputs": [
    {
     "data": {
      "text/plain": [
       "<re.Match object; span=(0, 0), match=''>"
      ]
     },
     "execution_count": 90,
     "metadata": {},
     "output_type": "execute_result"
    }
   ],
   "source": [
    "a.search('asdf12312412asdfa')"
   ]
  },
  {
   "cell_type": "code",
   "execution_count": null,
   "metadata": {},
   "outputs": [],
   "source": []
  }
 ],
 "metadata": {
  "kernelspec": {
   "display_name": "Python 3",
   "language": "python",
   "name": "python3"
  },
  "language_info": {
   "codemirror_mode": {
    "name": "ipython",
    "version": 3
   },
   "file_extension": ".py",
   "mimetype": "text/x-python",
   "name": "python",
   "nbconvert_exporter": "python",
   "pygments_lexer": "ipython3",
   "version": "3.7.3"
  }
 },
 "nbformat": 4,
 "nbformat_minor": 4
}
